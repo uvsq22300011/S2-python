{
 "cells": [
  {
   "cell_type": "markdown",
   "metadata": {},
   "source": [
    "# <center> Dictionnaires - TD </center>"
   ]
  },
  {
   "cell_type": "markdown",
   "metadata": {},
   "source": [
    "## Exercice 1 : Test de de compréhension*"
   ]
  },
  {
   "cell_type": "markdown",
   "metadata": {},
   "source": [
    "* Soit le dictionnaire suivant représentant des informations sur les étudiants inscrits au cours"
   ]
  },
  {
   "cell_type": "code",
   "execution_count": 2,
   "metadata": {},
   "outputs": [],
   "source": [
    "cours = {'nom cours': 'Java',\n",
    " 'theme': 'Algorithmique',\n",
    " 'etudiants': [{'nom': 'Martin', 'prenom': 'Jean', 'Dept': '95'},\n",
    "  {'nom': 'Mohamed', 'prenom': 'Ali', 'Dept': '93'},\n",
    "  {'nom': 'Durand', 'prenom': 'Bertrand', 'Dept': '95'}]}"
   ]
  },
  {
   "cell_type": "markdown",
   "metadata": {},
   "source": [
    "* Que permettent de faire les commandes suivantes ?"
   ]
  },
  {
   "cell_type": "code",
   "execution_count": 3,
   "metadata": {},
   "outputs": [
    {
     "name": "stdout",
     "output_type": "stream",
     "text": [
      "['Java', 'Algorithmique', [{'nom': 'Martin', 'prenom': 'Jean', 'Dept': '95'}, {'nom': 'Mohamed', 'prenom': 'Ali', 'Dept': '93'}, {'nom': 'Durand', 'prenom': 'Bertrand', 'Dept': '95'}]]\n"
     ]
    }
   ],
   "source": [
    "print(list(cours.values()))"
   ]
  },
  {
   "cell_type": "markdown",
   "metadata": {},
   "source": [
    "donne toute les valeurs du dictionnaire cours"
   ]
  },
  {
   "cell_type": "code",
   "execution_count": 4,
   "metadata": {},
   "outputs": [
    {
     "name": "stdout",
     "output_type": "stream",
     "text": [
      "['nom cours', 'theme', 'etudiants']\n"
     ]
    }
   ],
   "source": [
    "print(list(cours))"
   ]
  },
  {
   "cell_type": "markdown",
   "metadata": {},
   "source": [
    "Donnenj uste le nom des categories du dictionaire "
   ]
  },
  {
   "cell_type": "code",
   "execution_count": null,
   "metadata": {},
   "outputs": [],
   "source": [
    "print(cours['theme'])"
   ]
  },
  {
   "cell_type": "markdown",
   "metadata": {},
   "source": [
    "Donne la valeur associé a la catégorie theme"
   ]
  },
  {
   "cell_type": "code",
   "execution_count": 5,
   "metadata": {},
   "outputs": [
    {
     "name": "stdout",
     "output_type": "stream",
     "text": [
      "Martin\n"
     ]
    }
   ],
   "source": [
    "tabE=cours['etudiants']\n",
    "etud= tabE[0]\n",
    "print(etud['nom'])"
   ]
  },
  {
   "cell_type": "markdown",
   "metadata": {},
   "source": [
    "**REPONSE**"
   ]
  },
  {
   "cell_type": "markdown",
   "metadata": {},
   "source": [
    "* Comment peut-on avoir les informations sur les étudiants inscrits à ce cours  ?"
   ]
  },
  {
   "cell_type": "code",
   "execution_count": 6,
   "metadata": {},
   "outputs": [
    {
     "name": "stdout",
     "output_type": "stream",
     "text": [
      "[{'nom': 'Martin', 'prenom': 'Jean', 'Dept': '95'}, {'nom': 'Mohamed', 'prenom': 'Ali', 'Dept': '93'}, {'nom': 'Durand', 'prenom': 'Bertrand', 'Dept': '95'}]\n"
     ]
    }
   ],
   "source": [
    "#-------------------------#\n",
    "#    Écrire le code ici   #\n",
    "#---------------------\n",
    "\n",
    "print(cours['etudiants'])\n"
   ]
  },
  {
   "cell_type": "markdown",
   "metadata": {
    "deletable": false,
    "editable": false,
    "run_control": {
     "frozen": true
    }
   },
   "source": [
    "* Qu'affiche le programme suivant ?"
   ]
  },
  {
   "cell_type": "code",
   "execution_count": 7,
   "metadata": {},
   "outputs": [
    {
     "name": "stdout",
     "output_type": "stream",
     "text": [
      "{'nom': 'Mohamed', 'prenom': 'Ali', 'Dept': '93'}\n",
      "93\n"
     ]
    }
   ],
   "source": [
    "etds=cours['etudiants']\n",
    "tmp1=etds[1]\n",
    "print(tmp1)\n",
    "pr=tmp1['Dept']\n",
    "print(pr)"
   ]
  },
  {
   "cell_type": "markdown",
   "metadata": {},
   "source": [
    "**REPONSE**  Le programne suivant affiche le deuxieme étudiant  des étudiants du dictionnaire cours et son departement"
   ]
  },
  {
   "cell_type": "markdown",
   "metadata": {
    "deletable": false,
    "editable": false,
    "run_control": {
     "frozen": true
    }
   },
   "source": [
    "* Qu'affiche cette instruction ?"
   ]
  },
  {
   "cell_type": "code",
   "execution_count": 8,
   "metadata": {},
   "outputs": [
    {
     "name": "stdout",
     "output_type": "stream",
     "text": [
      "93\n"
     ]
    }
   ],
   "source": [
    "print (cours['etudiants'][1]['Dept'])"
   ]
  },
  {
   "cell_type": "markdown",
   "metadata": {},
   "source": [
    "**REPONSE** Affiche la même chose"
   ]
  },
  {
   "cell_type": "markdown",
   "metadata": {
    "deletable": false,
    "editable": false,
    "run_control": {
     "frozen": true
    }
   },
   "source": [
    "## Exercice 2 : Planètes et satellites \n",
    "### Question 1 : Définition d'un dictionnaire"
   ]
  },
  {
   "cell_type": "markdown",
   "metadata": {
    "deletable": false,
    "editable": false,
    "run_control": {
     "frozen": true
    }
   },
   "source": [
    "Définir le dictionnaire `lunes` représenté ci-dessous. Ce dictionnaire stocke le nombre de satellites de chaque planète. Dans un premier temps, définir de façon littérale le dictionnaire pour les 4 premiers couples ``clef:valeur`` puis ajouter successivement les 4 derniers couples.\n",
    "\n",
    "clef| \"Mercure\"|\"Vénus\"|\"Terre\"|\"Mars\"|\"Jupiter\"|\"Saturne\"|\"Uranus\"|\"Neptune\"|\n",
    "----|----------|-------|-------|------|---------|---------|--------|---------|\n",
    "valeur |0|0|1|2|63|61|27|11|\n"
   ]
  },
  {
   "cell_type": "code",
   "execution_count": 15,
   "metadata": {},
   "outputs": [
    {
     "name": "stdout",
     "output_type": "stream",
     "text": [
      "{'Mercure': 0, 'Venus': 0, 'Terre': 1, 'Mars': 2, 'Jupiter': 63, 'Saturne': 61, 'Uranus': 27, 'Neptune': 11}\n"
     ]
    }
   ],
   "source": [
    "#-------------------------#\n",
    "#    Écrire le code ici   #\n",
    "#-------------------------#\n",
    "lunes = {\"Mercure\":0,\"Venus\":0,\"Terre\":1,\"Mars\":2}\n",
    "lunes['Jupiter'] = 63\n",
    "lunes['Saturne'] = 61\n",
    "lunes['Uranus'] = 27\n",
    "lunes['Neptune'] = 11\n",
    "print(lunes)"
   ]
  },
  {
   "cell_type": "markdown",
   "metadata": {
    "deletable": false,
    "editable": false,
    "run_control": {
     "frozen": true
    }
   },
   "source": [
    "### Question 2 : Exploration d'un dictionnaire\n",
    "\n",
    "A partir du dictionnaire défini à la question précédente, proposer un programme permettant de:\n",
    "- modifier le dictionnaire précédent pour corriger une erreur qui s'est glissée dans l'énoncé : la planète `Neptune` comporte en fait 13 satellites,\n",
    "- afficher le nombre de satellites de la Terre,\n",
    "- afficher la liste des planètes,\n",
    "- afficher le nombre de satellites de chque planète,\n",
    "- afficher le nombre total de satellites."
   ]
  },
  {
   "cell_type": "code",
   "execution_count": 23,
   "metadata": {},
   "outputs": [
    {
     "name": "stdout",
     "output_type": "stream",
     "text": [
      "1\n",
      "dict_keys(['Mercure', 'Venus', 'Terre', 'Mars', 'Jupiter', 'Saturne', 'Uranus', 'Neptune'])\n",
      "dict_values([0, 0, 1, 2, 63, 61, 27, 13])\n",
      "167\n"
     ]
    }
   ],
   "source": [
    "#-------------------------#\n",
    "#    Écrire le code ici   #\n",
    "#-------------------------#\n",
    "\n",
    "lunes['Neptune'] = 13\n",
    "print(lunes['Terre'])\n",
    "print(lunes.keys())\n",
    "print(lunes.values())\n",
    "print(sum(lunes.values()))\n",
    "\n"
   ]
  },
  {
   "cell_type": "markdown",
   "metadata": {
    "deletable": false,
    "editable": false,
    "run_control": {
     "frozen": true
    }
   },
   "source": [
    "## Exercice 3 : Gestion d'un stock "
   ]
  },
  {
   "cell_type": "markdown",
   "metadata": {
    "deletable": false,
    "editable": false,
    "run_control": {
     "frozen": true
    }
   },
   "source": [
    "L'objectif est concevoir un programme permettant de gérer un stock d'articles. Pour cela, on doit pouvoir :\n",
    "- ajouter une référence (prix, quantité, et couleur) dans le stock,\n",
    "- calculer le prix total du stock.\n",
    "\n",
    "### Question 1 : Saisie d'une référence\n",
    "Créer une fonction ``ajout_reference()`` sans paramètre qui renvoie un dictionnaire dont les couples ``clef:valeur`` sont:\n",
    "\n",
    "| Clef |  Valeur (type) |\n",
    "-------|----------|\n",
    "|\"Prix\"| float|\n",
    "|\"Quantité\"| int|\n",
    "|\"Couleur\"| string|\n",
    "\n",
    "La fonction demandera à l'utilisateur de saisir itérativement au clavier les différentes valeurs."
   ]
  },
  {
   "cell_type": "code",
   "execution_count": 34,
   "metadata": {},
   "outputs": [
    {
     "ename": "ValueError",
     "evalue": "could not convert string to float: '$f'",
     "output_type": "error",
     "traceback": [
      "\u001b[1;31m---------------------------------------------------------------------------\u001b[0m",
      "\u001b[1;31mValueError\u001b[0m                                Traceback (most recent call last)",
      "\u001b[1;32mc:\\Users\\Lysa\\Documents\\COURS INFO\\S2 fondements info git\\S2-python-1\\TD\\TD3\\td_dict.ipynb Cell 29\u001b[0m line \u001b[0;36m7\n\u001b[0;32m      <a href='vscode-notebook-cell:/c%3A/Users/Lysa/Documents/COURS%20INFO/S2%20fondements%20info%20git/S2-python-1/TD/TD3/td_dict.ipynb#X34sZmlsZQ%3D%3D?line=4'>5</a>\u001b[0m     dict_ref \u001b[39m=\u001b[39m {\u001b[39m\"\u001b[39m\u001b[39mPrix\u001b[39m\u001b[39m\"\u001b[39m: \u001b[39mfloat\u001b[39m(\u001b[39minput\u001b[39m(\u001b[39m\"\u001b[39m\u001b[39mValeur du prix\u001b[39m\u001b[39m\"\u001b[39m)), \u001b[39m\"\u001b[39m\u001b[39mQuantité\u001b[39m\u001b[39m\"\u001b[39m:\u001b[39mint\u001b[39m(\u001b[39minput\u001b[39m(\u001b[39m\"\u001b[39m\u001b[39mDonnez la quantité\u001b[39m\u001b[39m\"\u001b[39m)),\u001b[39m\"\u001b[39m\u001b[39mCouleur\u001b[39m\u001b[39m\"\u001b[39m:\u001b[39minput\u001b[39m(\u001b[39m\"\u001b[39m\u001b[39mDonnez la couleur\u001b[39m\u001b[39m\"\u001b[39m)}\n\u001b[0;32m      <a href='vscode-notebook-cell:/c%3A/Users/Lysa/Documents/COURS%20INFO/S2%20fondements%20info%20git/S2-python-1/TD/TD3/td_dict.ipynb#X34sZmlsZQ%3D%3D?line=5'>6</a>\u001b[0m     \u001b[39mreturn\u001b[39;00m dict_ref\n\u001b[1;32m----> <a href='vscode-notebook-cell:/c%3A/Users/Lysa/Documents/COURS%20INFO/S2%20fondements%20info%20git/S2-python-1/TD/TD3/td_dict.ipynb#X34sZmlsZQ%3D%3D?line=6'>7</a>\u001b[0m ajout_reference()\n",
      "\u001b[1;32mc:\\Users\\Lysa\\Documents\\COURS INFO\\S2 fondements info git\\S2-python-1\\TD\\TD3\\td_dict.ipynb Cell 29\u001b[0m line \u001b[0;36m5\n\u001b[0;32m      <a href='vscode-notebook-cell:/c%3A/Users/Lysa/Documents/COURS%20INFO/S2%20fondements%20info%20git/S2-python-1/TD/TD3/td_dict.ipynb#X34sZmlsZQ%3D%3D?line=3'>4</a>\u001b[0m \u001b[39mdef\u001b[39;00m \u001b[39majout_reference\u001b[39m():\n\u001b[1;32m----> <a href='vscode-notebook-cell:/c%3A/Users/Lysa/Documents/COURS%20INFO/S2%20fondements%20info%20git/S2-python-1/TD/TD3/td_dict.ipynb#X34sZmlsZQ%3D%3D?line=4'>5</a>\u001b[0m     dict_ref \u001b[39m=\u001b[39m {\u001b[39m\"\u001b[39m\u001b[39mPrix\u001b[39m\u001b[39m\"\u001b[39m: \u001b[39mfloat\u001b[39;49m(\u001b[39minput\u001b[39;49m(\u001b[39m\"\u001b[39;49m\u001b[39mValeur du prix\u001b[39;49m\u001b[39m\"\u001b[39;49m)), \u001b[39m\"\u001b[39m\u001b[39mQuantité\u001b[39m\u001b[39m\"\u001b[39m:\u001b[39mint\u001b[39m(\u001b[39minput\u001b[39m(\u001b[39m\"\u001b[39m\u001b[39mDonnez la quantité\u001b[39m\u001b[39m\"\u001b[39m)),\u001b[39m\"\u001b[39m\u001b[39mCouleur\u001b[39m\u001b[39m\"\u001b[39m:\u001b[39minput\u001b[39m(\u001b[39m\"\u001b[39m\u001b[39mDonnez la couleur\u001b[39m\u001b[39m\"\u001b[39m)}\n\u001b[0;32m      <a href='vscode-notebook-cell:/c%3A/Users/Lysa/Documents/COURS%20INFO/S2%20fondements%20info%20git/S2-python-1/TD/TD3/td_dict.ipynb#X34sZmlsZQ%3D%3D?line=5'>6</a>\u001b[0m     \u001b[39mreturn\u001b[39;00m dict_ref\n",
      "\u001b[1;31mValueError\u001b[0m: could not convert string to float: '$f'"
     ]
    }
   ],
   "source": [
    "#-------------------------#\n",
    "#    Écrire le code ici   #\n",
    "#-------------------------#\n",
    "def ajout_reference():\n",
    "    dict_ref = {\"Prix\": float(input(\"Valeur du prix\")), \"Quantité\":int(input(\"Donnez la quantité\")),\"Couleur\":input(\"Donnez la couleur\")}\n",
    "    return dict_ref\n",
    "ajout_reference()\n"
   ]
  },
  {
   "cell_type": "code",
   "execution_count": null,
   "metadata": {},
   "outputs": [],
   "source": []
  },
  {
   "cell_type": "markdown",
   "metadata": {
    "deletable": false,
    "editable": false,
    "run_control": {
     "frozen": true
    }
   },
   "source": [
    "### Question 2 : Saisie et évaluation d'un stock\n",
    "Ecrire le programme principal permettant, de saisir des références tant que l'utilisateur le souhaite, de les ajouter au fur et à mesure dans un tableau, puis en fin de saisie, d'afficher le montant total du stock.\n",
    "On utilisera la fonction définie à la question précédente."
   ]
  },
  {
   "cell_type": "code",
   "execution_count": 37,
   "metadata": {},
   "outputs": [
    {
     "name": "stdout",
     "output_type": "stream",
     "text": [
      "[{'Prix': 100.0, 'Quantité': 2, 'Couleur': 'Jaune'}, {'Prix': 20.0, 'Quantité': 2, 'Couleur': 'Violet'}]\n",
      "240.0\n"
     ]
    }
   ],
   "source": [
    "#-------------------------#\n",
    "#    Écrire le code ici   #\n",
    "#-------------------------#\n",
    "inventaire = []\n",
    "somme = 0\n",
    "i = int(input(\"Combien de fois voulez vous ajouter un stock ?\"))\n",
    "j = 0\n",
    "while j != i:\n",
    "    inventaire.append(ajout_reference())\n",
    "    j+= 1\n",
    "\n",
    "for i in range(j):\n",
    "    a = inventaire[i]['Prix'] * inventaire[i]['Quantité']\n",
    "    somme += a\n",
    "print(inventaire)\n",
    "print(somme)\n",
    "\n"
   ]
  },
  {
   "cell_type": "code",
   "execution_count": 48,
   "metadata": {},
   "outputs": [
    {
     "ename": "ValueError",
     "evalue": "could not convert string to float: ''",
     "output_type": "error",
     "traceback": [
      "\u001b[1;31m---------------------------------------------------------------------------\u001b[0m",
      "\u001b[1;31mValueError\u001b[0m                                Traceback (most recent call last)",
      "\u001b[1;32mc:\\Users\\Lysa\\Documents\\COURS INFO\\S2 fondements info git\\S2-python-1\\TD\\TD3\\td_dict.ipynb Cell 33\u001b[0m line \u001b[0;36m5\n\u001b[0;32m      <a href='vscode-notebook-cell:/c%3A/Users/Lysa/Documents/COURS%20INFO/S2%20fondements%20info%20git/S2-python-1/TD/TD3/td_dict.ipynb#X65sZmlsZQ%3D%3D?line=2'>3</a>\u001b[0m menu \u001b[39m=\u001b[39m \u001b[39m1\u001b[39m\n\u001b[0;32m      <a href='vscode-notebook-cell:/c%3A/Users/Lysa/Documents/COURS%20INFO/S2%20fondements%20info%20git/S2-python-1/TD/TD3/td_dict.ipynb#X65sZmlsZQ%3D%3D?line=3'>4</a>\u001b[0m \u001b[39mwhile\u001b[39;00m menu\u001b[39m!=\u001b[39m \u001b[39m2\u001b[39m:\n\u001b[1;32m----> <a href='vscode-notebook-cell:/c%3A/Users/Lysa/Documents/COURS%20INFO/S2%20fondements%20info%20git/S2-python-1/TD/TD3/td_dict.ipynb#X65sZmlsZQ%3D%3D?line=4'>5</a>\u001b[0m     inventaire\u001b[39m.\u001b[39mappend(ajout_reference())\n\u001b[0;32m      <a href='vscode-notebook-cell:/c%3A/Users/Lysa/Documents/COURS%20INFO/S2%20fondements%20info%20git/S2-python-1/TD/TD3/td_dict.ipynb#X65sZmlsZQ%3D%3D?line=5'>6</a>\u001b[0m     \u001b[39mprint\u001b[39m(\u001b[39m\"\u001b[39m\u001b[39mvoulez vous continuez ?\u001b[39m\u001b[39m\"\u001b[39m)\n\u001b[0;32m      <a href='vscode-notebook-cell:/c%3A/Users/Lysa/Documents/COURS%20INFO/S2%20fondements%20info%20git/S2-python-1/TD/TD3/td_dict.ipynb#X65sZmlsZQ%3D%3D?line=6'>7</a>\u001b[0m     \u001b[39mprint\u001b[39m(\u001b[39m\"\u001b[39m\u001b[39mSi oui, tapez 2, sinon 1\u001b[39m\u001b[39m\"\u001b[39m)\n",
      "\u001b[1;32mc:\\Users\\Lysa\\Documents\\COURS INFO\\S2 fondements info git\\S2-python-1\\TD\\TD3\\td_dict.ipynb Cell 33\u001b[0m line \u001b[0;36m5\n\u001b[0;32m      <a href='vscode-notebook-cell:/c%3A/Users/Lysa/Documents/COURS%20INFO/S2%20fondements%20info%20git/S2-python-1/TD/TD3/td_dict.ipynb#X65sZmlsZQ%3D%3D?line=3'>4</a>\u001b[0m \u001b[39mdef\u001b[39;00m \u001b[39majout_reference\u001b[39m():\n\u001b[1;32m----> <a href='vscode-notebook-cell:/c%3A/Users/Lysa/Documents/COURS%20INFO/S2%20fondements%20info%20git/S2-python-1/TD/TD3/td_dict.ipynb#X65sZmlsZQ%3D%3D?line=4'>5</a>\u001b[0m     dict_ref \u001b[39m=\u001b[39m {\u001b[39m\"\u001b[39m\u001b[39mPrix\u001b[39m\u001b[39m\"\u001b[39m: \u001b[39mfloat\u001b[39;49m(\u001b[39minput\u001b[39;49m(\u001b[39m\"\u001b[39;49m\u001b[39mValeur du prix\u001b[39;49m\u001b[39m\"\u001b[39;49m)), \u001b[39m\"\u001b[39m\u001b[39mQuantité\u001b[39m\u001b[39m\"\u001b[39m:\u001b[39mint\u001b[39m(\u001b[39minput\u001b[39m(\u001b[39m\"\u001b[39m\u001b[39mDonnez la quantité\u001b[39m\u001b[39m\"\u001b[39m)),\u001b[39m\"\u001b[39m\u001b[39mCouleur\u001b[39m\u001b[39m\"\u001b[39m:\u001b[39minput\u001b[39m(\u001b[39m\"\u001b[39m\u001b[39mDonnez la couleur\u001b[39m\u001b[39m\"\u001b[39m)}\n\u001b[0;32m      <a href='vscode-notebook-cell:/c%3A/Users/Lysa/Documents/COURS%20INFO/S2%20fondements%20info%20git/S2-python-1/TD/TD3/td_dict.ipynb#X65sZmlsZQ%3D%3D?line=5'>6</a>\u001b[0m     \u001b[39mreturn\u001b[39;00m dict_ref\n",
      "\u001b[1;31mValueError\u001b[0m: could not convert string to float: ''"
     ]
    }
   ],
   "source": [
    "inventaire = []\n",
    "somme = 0\n",
    "menu = 1\n",
    "while menu!= 2:\n",
    "    inventaire.append(ajout_reference())\n",
    "    print(\"voulez vous continuez ?\")\n",
    "    print(\"Si oui, tapez 2, sinon 1\")\n",
    "    menu = int(input(\"Tapez la valeur\"))\n",
    "\n",
    "for i in len(inventaire):\n",
    "    a = inventaire[i]['Prix'] * inventaire[i]['Quantité']\n",
    "    somme += a\n",
    "    i += 1\n",
    "print(inventaire)\n",
    "print(somme)"
   ]
  },
  {
   "cell_type": "markdown",
   "metadata": {
    "deletable": false,
    "editable": false,
    "run_control": {
     "frozen": true
    }
   },
   "source": [
    "## Exercice 4 :  Dictionnaire français-anglais "
   ]
  },
  {
   "cell_type": "markdown",
   "metadata": {},
   "source": [
    "### Question 1  : Création d'un dictionnaire\n",
    "\n",
    "Choisir 5 mots de la langue française et créer un dictionnaire qui associe à chacun de ces mots\n",
    "sa traduction en anglais.\n",
    "Ajouter une entrée au dictionnaire  (un nouveau mot et sa définition)."
   ]
  },
  {
   "cell_type": "code",
   "execution_count": 39,
   "metadata": {},
   "outputs": [
    {
     "name": "stdout",
     "output_type": "stream",
     "text": [
      "{'bonjour': 'hello', 'au revoir': 'good bye', 'la plage': 'The beach', 'un python': 'a python', 'un oiseau': 'a bird', 'algue': 'seaweed'}\n"
     ]
    }
   ],
   "source": [
    "#-------------------------#\n",
    "#    Écrire le code ici   #\n",
    "#-------------------------#\n",
    "\n",
    "dico = {\"bonjour\":\"hello\",\n",
    "     \"au revoir\":\"good bye\",\n",
    "     \"la plage\":\"The beach\",\n",
    "     \"un python\":\"a python\",\n",
    "     \"un oiseau\":\"a bird\"}\n",
    "\n",
    "dico[\"algue\"] = \"seaweed\"\n",
    "\n",
    "print(dico)"
   ]
  },
  {
   "cell_type": "markdown",
   "metadata": {},
   "source": [
    "### Question 2  : Fonction d'ajout \n",
    "Écrire une fonction `ajoute(mot1, mot2, dico)` qui prend en paramètre un mot en français, sa traduction\n",
    "en anglais et ajoute ces deux mots dans le dictionnaire `dico` uniquement si `mot1` n’est pas déjà une clé\n",
    "du dictionnaire.\n",
    "\n",
    "Tester cette fonction avec des valeurs judicieusement choisies."
   ]
  },
  {
   "cell_type": "code",
   "execution_count": 41,
   "metadata": {},
   "outputs": [
    {
     "name": "stdout",
     "output_type": "stream",
     "text": [
      "{'bonjour': 'hello', 'au revoir': 'good bye', 'la plage': 'The beach', 'un python': 'a python', 'un oiseau': 'a bird', 'algue': 'seaweed', 'phoque': 'seal'}\n"
     ]
    }
   ],
   "source": [
    "#-------------------------#\n",
    "#    Écrire le code ici   #\n",
    "#-------------------------#\n",
    "def ajoute(mot1,mot2,dico):\n",
    "    if not mot1 in dico:\n",
    "        dico[mot1] = mot2\n",
    "\n",
    "ajoute('phoque','seal',dico)\n",
    "print(dico)"
   ]
  },
  {
   "cell_type": "markdown",
   "metadata": {},
   "source": [
    "### Question 3  : Affichage des valeurs\n",
    "Écrire une fonction qui affiche à l’écran toutes les valeurs correspondant aux clés qui sont dans\n",
    "votre dictionnaire  et l'utiliser pour réaliser l'affichage des mots anglais du dictionnaire qui a été crée."
   ]
  },
  {
   "cell_type": "code",
   "execution_count": 43,
   "metadata": {},
   "outputs": [
    {
     "name": "stdout",
     "output_type": "stream",
     "text": [
      "(['bonjour', 'au revoir', 'la plage', 'un python', 'un oiseau', 'algue', 'phoque'], ['hello', 'good bye', 'The beach', 'a python', 'a bird', 'seaweed', 'seal'])\n"
     ]
    }
   ],
   "source": [
    "#-------------------------#\n",
    "#    Écrire le code ici   #\n",
    "#-------------------------#\n",
    "def affichage(dico):\n",
    "    key = []\n",
    "    values = []\n",
    "    a = list(dico.keys())\n",
    "    b = list(dico.values())\n",
    "    for i in range(len(dico.keys())):\n",
    "        key.append(a[i])\n",
    "        values.append(b[i])\n",
    "    return key, values\n",
    "\n",
    "print(affichage(dico))\n",
    "        \n",
    "        \n",
    "\n"
   ]
  },
  {
   "cell_type": "markdown",
   "metadata": {},
   "source": [
    "### Question 4 : Suppression d'entrées du dictionnaire\n",
    "Écrire une fonction `supprime(car, dico)` qui prend en paramètre un caractère `car` et un dictionnaire\n",
    "`dico` et supprime du dictionnaire toutes les entrées correspondant à des clés qui commencent par la\n",
    "lettre `car`.\n",
    "\n",
    "Tester cette fonction sur le dictionnaire."
   ]
  },
  {
   "cell_type": "code",
   "execution_count": 46,
   "metadata": {},
   "outputs": [
    {
     "data": {
      "text/plain": [
       "{'au revoir': 'good bye',\n",
       " 'la plage': 'The beach',\n",
       " 'un python': 'a python',\n",
       " 'un oiseau': 'a bird',\n",
       " 'algue': 'seaweed',\n",
       " 'phoque': 'seal'}"
      ]
     },
     "execution_count": 46,
     "metadata": {},
     "output_type": "execute_result"
    }
   ],
   "source": [
    "#-------------------------#\n",
    "#    Écrire le code ici   #\n",
    "#-------------------------#\n",
    "\n",
    "def supprime(car,dico):\n",
    "    a = list(dico.keys())\n",
    "    for i in range(len(dico.keys())):\n",
    "        if a[i][0] ==  car:\n",
    "            del dico[a[i]]\n",
    "    return dico\n",
    "\n",
    "supprime(\"b\",dico)"
   ]
  },
  {
   "cell_type": "markdown",
   "metadata": {},
   "source": [
    "## Exercice 5 : Codage de Morse"
   ]
  },
  {
   "cell_type": "markdown",
   "metadata": {},
   "source": [
    "Le Morse est un schéma de codage qui utilise des tirets et des points pour représenter les chiffres et les lettres. \n",
    "\n",
    "Le dictionnaire ci-dessous donne la correspondance entre les lettres et les chiffres, les tirets et les points. "
   ]
  },
  {
   "cell_type": "code",
   "execution_count": 47,
   "metadata": {},
   "outputs": [],
   "source": [
    "morse_code_dict = {'A':'.-'   , 'B':'-...' , 'C':'-.-.' , 'D':'-..'  , 'E':'.'    , 'F':'..-.' , 'G':'--.'  , \n",
    "                   'H':'....' , 'I':'..'   , 'J':'.---' , 'K':'-.-'  , 'L':'.-..' , 'M':'--'   , 'N':'-.'   , \n",
    "                   'O':'---'  , 'P':'.--.' , 'Q':'--.-' , 'R':'.-.'  , 'S':'...'  , 'T':'-'    , 'U':'..-'  , \n",
    "                   'V':'...-' , 'W':'.--'  , 'X':'-..-' , 'Y':'-.--' , 'Z':'--..' , '0':'-----', '1':'.----', \n",
    "                   '2':'..---', '3':'...--', '4':'....-', '5':'.....', '6':'-....', '7':'--...', '8':'---..', \n",
    "                   '9':'----.'}"
   ]
  },
  {
   "cell_type": "code",
   "execution_count": 51,
   "metadata": {},
   "outputs": [
    {
     "name": "stdout",
     "output_type": "stream",
     "text": [
      "......-...-..---.-----.-..-..-..\n"
     ]
    }
   ],
   "source": [
    "#-------------------------#\n",
    "#    Écrire le code ici   #\n",
    "#-------------------------#\n",
    "def Morse(texte):\n",
    "    \n",
    "    a = \"\"\n",
    "    b = \"\"\n",
    "    textemaj = texte.upper()\n",
    "    for i in range(len(textemaj)):\n",
    "        if textemaj[i].isalnum() == False:\n",
    "            continue\n",
    "        else :\n",
    "            a = morse_code_dict[textemaj[i]]\n",
    "            b += a\n",
    "    return b \n",
    "\n",
    "print(Morse(\"Hello world\"))"
   ]
  },
  {
   "cell_type": "markdown",
   "metadata": {},
   "source": [
    "Ecrire une fonction qui prend en paramètre un texte, transforme les minuscules en majuscules et traduit chaque lettre et chaque chiffre du texte en code Morse, en laissant un espace entre chaque suite de tirets et de points. La fonction ignorera tous les caractères qui ne sont pas des lettres ou des chiffres. \n",
    "\n",
    "Utiliser cette fonction pour coder en Morse `Hello world !`.\n",
    "\n",
    "**Rappel** : \n",
    "\n",
    "- La méthode `chaine.upper()` retourne la chaine de caractères obtenue à partir de `chaine`en remplaçant les lettres minuscules par des lettres majuscules.\n",
    "- La méthode `chaine.isalnum()` retoune `True` si tous les caractères de `chaine`sont alphanumériques (lettres ou chiffres) et qu'il y a au moins un caractère et `False` dans le cas contraire."
   ]
  }
 ],
 "metadata": {
  "celltoolbar": "Format de la Cellule Texte Brut",
  "kernelspec": {
   "display_name": "Python 3",
   "language": "python",
   "name": "python3"
  },
  "language_info": {
   "codemirror_mode": {
    "name": "ipython",
    "version": 3
   },
   "file_extension": ".py",
   "mimetype": "text/x-python",
   "name": "python",
   "nbconvert_exporter": "python",
   "pygments_lexer": "ipython3",
   "version": "3.11.4"
  },
  "latex_envs": {
   "LaTeX_envs_menu_present": true,
   "autoclose": false,
   "autocomplete": true,
   "bibliofile": "biblio.bib",
   "cite_by": "apalike",
   "current_citInitial": 1,
   "eqLabelWithNumbers": true,
   "eqNumInitial": 1,
   "hotkeys": {
    "equation": "Ctrl-E",
    "itemize": "Ctrl-I"
   },
   "labels_anchors": false,
   "latex_user_defs": false,
   "report_style_numbering": false,
   "user_envs_cfg": false
  },
  "toc": {
   "base_numbering": 1,
   "nav_menu": {},
   "number_sections": true,
   "sideBar": true,
   "skip_h1_title": false,
   "title_cell": "Table of Contents",
   "title_sidebar": "Contents",
   "toc_cell": false,
   "toc_position": {},
   "toc_section_display": true,
   "toc_window_display": false
  }
 },
 "nbformat": 4,
 "nbformat_minor": 2
}
