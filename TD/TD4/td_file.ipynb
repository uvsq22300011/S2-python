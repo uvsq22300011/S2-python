{
 "cells": [
  {
   "cell_type": "markdown",
   "metadata": {},
   "source": [
    "# <center>  Fichiers texte - TD </center>"
   ]
  },
  {
   "cell_type": "markdown",
   "metadata": {},
   "source": [
    "## Exercice 1 :  Écriture/Lecture dans un fichier\n",
    "\n",
    "### Question 1\n",
    "Définir un programme qui écrit dans un fichier tous les entiers inférieurs à 10 000. Chaque entier est sur une ligne différente du fichier. Puis faire un programme qui lit le contenu de ce fichier et mémorise toutes les valeurs dans un tableau."
   ]
  },
  {
   "cell_type": "code",
   "execution_count": 3,
   "metadata": {},
   "outputs": [
    {
     "data": {
      "text/plain": [
       "<function TextIOWrapper.close()>"
      ]
     },
     "execution_count": 3,
     "metadata": {},
     "output_type": "execute_result"
    }
   ],
   "source": [
    "#-------------------------#\n",
    "#    Écrire le code ici   #\n",
    "#-------------------------#\n",
    "path = \"numbers.txt\"\n",
    "mode = \"w\"\n",
    "text = open(path,mode)\n",
    "for i in range(10000):\n",
    "    text.write(str(i) +'\\n')\n",
    "\n",
    "text.close()\n",
    "\n",
    "path2= \"numbers.txt\"\n",
    "mode2 = \"r\"\n",
    "tab_nb =[]\n",
    "text_r = open(path2,mode2)\n",
    "for i in range(10000):\n",
    "    a = text_r.readline()\n",
    "    tab_nb.append(int(a))\n",
    "\n",
    "text_r.close\n",
    "\n"
   ]
  },
  {
   "cell_type": "markdown",
   "metadata": {},
   "source": [
    "### Question 2\n",
    "Refaire la même chose qu'à la question précédente, mais cette fois-ci tous les entiers sont sur une même ligne et sont séparés par un `;`."
   ]
  },
  {
   "cell_type": "code",
   "execution_count": 4,
   "metadata": {},
   "outputs": [
    {
     "data": {
      "text/plain": [
       "<function TextIOWrapper.close()>"
      ]
     },
     "execution_count": 4,
     "metadata": {},
     "output_type": "execute_result"
    }
   ],
   "source": [
    "#-------------------------#\n",
    "#    Écrire le code ici   #\n",
    "#-------------------------#\n",
    "\n",
    "path = \"numbers2.txt\"\n",
    "mode = \"w\"\n",
    "text = open(path,mode)\n",
    "for i in range(10000):\n",
    "    text.write(str(i) +';')\n",
    "\n",
    "text.close()\n",
    "\n",
    "path2= \"numbers.txt\"\n",
    "mode2 = \"r\"\n",
    "tab_nb =[]\n",
    "text_r = open(path2,mode2)\n",
    "for i in range(10000):\n",
    "    a = text_r.readline()\n",
    "    if a == \";\":#possibilité de utilisé split(;) pour faire la même chose\n",
    "        continue\n",
    "    else :\n",
    "        tab_nb.append(int(a))\n",
    "\n",
    "text_r.close\n",
    "\n",
    "\n"
   ]
  },
  {
   "cell_type": "markdown",
   "metadata": {},
   "source": [
    "## Exercice 2:  Lecture/Écriture dans un fichier\n",
    "\n",
    "### Question 1: Écriture dans un fichier\n",
    "Définir un programme qui écrit dans un fichier nommé `'prenoms.txt'` les prénoms contenus dans le tableau initial de l'exercice précédant. Chaque prénom sera écrit sur une ligne différente:"
   ]
  },
  {
   "cell_type": "code",
   "execution_count": 6,
   "metadata": {},
   "outputs": [],
   "source": [
    "#-------------------------#\n",
    "#    Écrire le code ici   #\n",
    "#-------------------------#\n",
    "prenoms = [\"Lysa\",\"Ellyna\",\"Samy\",\"Elouan\",\"Ines\",\"Laurine\",\"Alex\",\n",
    "           \"Julien\",\"Farah\",\"Julia\",\"Emerson\",\"Mathis\",\"Jessica\",\"Lina\",\"Alyssa\",\"Mouna\"]\n",
    "text = open(\"prenoms.txt\",\"w\")\n",
    "for i in range(len(prenoms)):\n",
    "    text.write(prenoms[i] + '\\n')\n",
    "\n",
    "text.close()\n"
   ]
  },
  {
   "cell_type": "markdown",
   "metadata": {},
   "source": [
    "### Question 2:  Lecture dans un fichier\n",
    "\n",
    "Définir un programme qui lit les prénoms du fichier `'prenoms.txt'` et qui affiche en plus du prénom lu le nombre de caractères qui le constitue. Chaque prénom et son nombre de caractère seront affichés sur une ligne différente et séparés par une virgule."
   ]
  },
  {
   "cell_type": "code",
   "execution_count": 15,
   "metadata": {},
   "outputs": [
    {
     "name": "stdout",
     "output_type": "stream",
     "text": [
      "Lysa, 4\n",
      "Ellyna, 6\n",
      "Samy, 4\n",
      "Elouan, 6\n",
      "Ines, 4\n",
      "Laurine, 7\n",
      "Alex, 4\n",
      "Julien, 6\n",
      "Farah, 5\n",
      "Julia, 5\n",
      "Emerson, 7\n",
      "Mathis, 6\n",
      "Jessica, 7\n",
      "Lina, 4\n",
      "Alyssa, 6\n",
      "Mouna, 5\n"
     ]
    }
   ],
   "source": [
    "#-------------------------#\n",
    "#    Écrire le code ici   #\n",
    "#-------------------------#\n",
    "text = open(\"prenoms.txt\",\"r\")\n",
    "for ligne in text.readlines():\n",
    "    ligne_modif = ligne.strip()\n",
    "    print(str(ligne_modif) + \", \" + str(len(ligne_modif)))\n",
    "\n",
    "text.close()\n",
    "\n"
   ]
  },
  {
   "cell_type": "markdown",
   "metadata": {},
   "source": [
    "### Question 3: Lecture et Ecriture dans un fichier\n",
    "\n",
    "Définir un programme qui, au moyen d'une seule boucle, lit les prénoms du fichier `prenoms.txt` et qui écrit dans un fichier `prenoms.csv` en plus du prénom le nombre de caractère qui le constitue. Sur chaque ligne du fichier le prénom et sa longueur sont séparé par une virgule."
   ]
  },
  {
   "cell_type": "code",
   "execution_count": 19,
   "metadata": {},
   "outputs": [],
   "source": [
    "#-------------------------#\n",
    "#    Écrire le code ici   #\n",
    "#-------------------------#\n",
    "text = open(\"prenoms.txt\",\"r\")\n",
    "text2 = open(\"prenoms.cvs\",\"w\")\n",
    "for ligne in text.readlines():\n",
    "    ligne_modif = ligne.strip()\n",
    "    text2.write(str(ligne_modif) + \", \" + str(len(ligne_modif)) + '\\n' )\n",
    "\n",
    "text.close()\n",
    "text2.close()"
   ]
  },
  {
   "cell_type": "markdown",
   "metadata": {},
   "source": [
    "## Exercice 3 : JSON\n",
    "\n",
    "Écrire un programme permettant à partir d’un fichier texte en français d’en déduire la fréquence d’apparition des caractères qu’il contient. Le résultat de cette analyse sera consigné dans un fichier JSON `files/statistiques.json`. Pour des statistiques fiables, on utilisera un texte assez long disponible dans le fichier `files/zadig.txt`."
   ]
  },
  {
   "cell_type": "code",
   "execution_count": 22,
   "metadata": {},
   "outputs": [],
   "source": [
    "#-------------------------#\n",
    "#    Écrire le code ici   #\n",
    "#-------------------------#\n",
    "import json \n",
    "\n",
    "text_r = open(\"zadig.txt\",\"r\")\n",
    "stat = open(\"statistiques.json\",\"w\")\n",
    "letter = {}\n",
    "total = 0\n",
    "for ligne in text_r.readlines():\n",
    "    for char in ligne.strip() :\n",
    "        total += 1\n",
    "        if char in letter.keys():\n",
    "            letter[char] += 1\n",
    "        else :\n",
    "            letter[char] = 1 \n",
    "\n",
    "for key in letter:\n",
    "    freq =  letter[key] / total\n",
    "    letter[key] = freq\n",
    "\n",
    "json.dump(letter,stat,indent = 4)\n",
    "\n",
    "\n",
    "text_r.close()\n",
    "stat.close()\n"
   ]
  },
  {
   "cell_type": "code",
   "execution_count": null,
   "metadata": {},
   "outputs": [],
   "source": []
  }
 ],
 "metadata": {
  "kernelspec": {
   "display_name": "Python 3",
   "language": "python",
   "name": "python3"
  },
  "language_info": {
   "codemirror_mode": {
    "name": "ipython",
    "version": 3
   },
   "file_extension": ".py",
   "mimetype": "text/x-python",
   "name": "python",
   "nbconvert_exporter": "python",
   "pygments_lexer": "ipython3",
   "version": "3.11.4"
  },
  "latex_envs": {
   "LaTeX_envs_menu_present": true,
   "autoclose": false,
   "autocomplete": true,
   "bibliofile": "biblio.bib",
   "cite_by": "apalike",
   "current_citInitial": 1,
   "eqLabelWithNumbers": true,
   "eqNumInitial": 1,
   "hotkeys": {
    "equation": "Ctrl-E",
    "itemize": "Ctrl-I"
   },
   "labels_anchors": false,
   "latex_user_defs": false,
   "report_style_numbering": false,
   "user_envs_cfg": false
  },
  "toc": {
   "base_numbering": 1,
   "nav_menu": {},
   "number_sections": true,
   "sideBar": true,
   "skip_h1_title": false,
   "title_cell": "Table of Contents",
   "title_sidebar": "Contents",
   "toc_cell": false,
   "toc_position": {},
   "toc_section_display": true,
   "toc_window_display": false
  }
 },
 "nbformat": 4,
 "nbformat_minor": 2
}
